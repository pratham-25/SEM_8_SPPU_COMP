{
 "cells": [
  {
   "cell_type": "code",
   "execution_count": 2,
   "id": "713768a2",
   "metadata": {},
   "outputs": [],
   "source": [
    "import pandas as pd\n",
    "import tensorflow as tf\n",
    "import matplotlib.pyplot as plt\n",
    "import seaborn as sns\n",
    "\n",
    "from sklearn.model_selection import train_test_split\n",
    "from sklearn.preprocessing import StandardScaler, MinMaxScaler\n",
    "from sklearn.metrics import mean_squared_error, mean_absolute_error, accuracy_score\n",
    "\n",
    "from keras.models import Sequential\n",
    "from keras.layers import Dense"
   ]
  },
  {
   "cell_type": "markdown",
   "id": "99297563",
   "metadata": {},
   "source": [
    "**Dataset Description**\n",
    "CRIM - per capita crime rate by town <br>\n",
    "ZN - proportion of residential land zoned for lots over 25,000 sq.ft.<br>\n",
    "INDUS - proportion of non-retail business acres per town.<br>\n",
    "CHAS - Charles River dummy variable (1 if tract bounds river; 0 otherwise)<br>\n",
    "NOX - nitric oxides concentration (parts per 10 million)<br>\n",
    "RM - average number of rooms per dwelling<br>\n",
    "AGE - proportion of owner-occupied units built prior to 1940<br>\n",
    "DIS - weighted distances to five Boston employment centres<br>\n",
    "RAD - index of accessibility to radial highways <br>\n",
    "TAX - full-value property-tax rate per 10,000 rs <br>\n",
    "PTRATIO - pupil-teacher ratio by town <br>\n",
    "B - 1000(Bk - 0.63)^2 where Bk is the proportion of blacks by town <br>\n",
    "LSTAT - lower status of the population <br>\n",
    "MEDV - Median value of owner-occupied homes in 1000's rs <br>"
   ]
  },
  {
   "cell_type": "code",
   "execution_count": 3,
   "id": "16d55854",
   "metadata": {},
   "outputs": [
    {
     "data": {
      "text/html": [
       "<div>\n",
       "<style scoped>\n",
       "    .dataframe tbody tr th:only-of-type {\n",
       "        vertical-align: middle;\n",
       "    }\n",
       "\n",
       "    .dataframe tbody tr th {\n",
       "        vertical-align: top;\n",
       "    }\n",
       "\n",
       "    .dataframe thead th {\n",
       "        text-align: right;\n",
       "    }\n",
       "</style>\n",
       "<table border=\"1\" class=\"dataframe\">\n",
       "  <thead>\n",
       "    <tr style=\"text-align: right;\">\n",
       "      <th></th>\n",
       "      <th>CRIM</th>\n",
       "      <th>ZN</th>\n",
       "      <th>INDUS</th>\n",
       "      <th>CHAS</th>\n",
       "      <th>NOX</th>\n",
       "      <th>RM</th>\n",
       "      <th>AGE</th>\n",
       "      <th>DIS</th>\n",
       "      <th>RAD</th>\n",
       "      <th>TAX</th>\n",
       "      <th>PTRATIO</th>\n",
       "      <th>B</th>\n",
       "      <th>LSTAT</th>\n",
       "      <th>MEDV</th>\n",
       "    </tr>\n",
       "  </thead>\n",
       "  <tbody>\n",
       "    <tr>\n",
       "      <th>0</th>\n",
       "      <td>0.00632</td>\n",
       "      <td>18.0</td>\n",
       "      <td>2.31</td>\n",
       "      <td>0.0</td>\n",
       "      <td>0.538</td>\n",
       "      <td>6.575</td>\n",
       "      <td>65.2</td>\n",
       "      <td>4.0900</td>\n",
       "      <td>1</td>\n",
       "      <td>296</td>\n",
       "      <td>15.3</td>\n",
       "      <td>396.90</td>\n",
       "      <td>4.98</td>\n",
       "      <td>24.0</td>\n",
       "    </tr>\n",
       "    <tr>\n",
       "      <th>1</th>\n",
       "      <td>0.02731</td>\n",
       "      <td>0.0</td>\n",
       "      <td>7.07</td>\n",
       "      <td>0.0</td>\n",
       "      <td>0.469</td>\n",
       "      <td>6.421</td>\n",
       "      <td>78.9</td>\n",
       "      <td>4.9671</td>\n",
       "      <td>2</td>\n",
       "      <td>242</td>\n",
       "      <td>17.8</td>\n",
       "      <td>396.90</td>\n",
       "      <td>9.14</td>\n",
       "      <td>21.6</td>\n",
       "    </tr>\n",
       "    <tr>\n",
       "      <th>2</th>\n",
       "      <td>0.02729</td>\n",
       "      <td>0.0</td>\n",
       "      <td>7.07</td>\n",
       "      <td>0.0</td>\n",
       "      <td>0.469</td>\n",
       "      <td>7.185</td>\n",
       "      <td>61.1</td>\n",
       "      <td>4.9671</td>\n",
       "      <td>2</td>\n",
       "      <td>242</td>\n",
       "      <td>17.8</td>\n",
       "      <td>392.83</td>\n",
       "      <td>4.03</td>\n",
       "      <td>34.7</td>\n",
       "    </tr>\n",
       "    <tr>\n",
       "      <th>3</th>\n",
       "      <td>0.03237</td>\n",
       "      <td>0.0</td>\n",
       "      <td>2.18</td>\n",
       "      <td>0.0</td>\n",
       "      <td>0.458</td>\n",
       "      <td>6.998</td>\n",
       "      <td>45.8</td>\n",
       "      <td>6.0622</td>\n",
       "      <td>3</td>\n",
       "      <td>222</td>\n",
       "      <td>18.7</td>\n",
       "      <td>394.63</td>\n",
       "      <td>2.94</td>\n",
       "      <td>33.4</td>\n",
       "    </tr>\n",
       "    <tr>\n",
       "      <th>4</th>\n",
       "      <td>0.06905</td>\n",
       "      <td>0.0</td>\n",
       "      <td>2.18</td>\n",
       "      <td>0.0</td>\n",
       "      <td>0.458</td>\n",
       "      <td>7.147</td>\n",
       "      <td>54.2</td>\n",
       "      <td>6.0622</td>\n",
       "      <td>3</td>\n",
       "      <td>222</td>\n",
       "      <td>18.7</td>\n",
       "      <td>396.90</td>\n",
       "      <td>NaN</td>\n",
       "      <td>36.2</td>\n",
       "    </tr>\n",
       "  </tbody>\n",
       "</table>\n",
       "</div>"
      ],
      "text/plain": [
       "      CRIM    ZN  INDUS  CHAS    NOX     RM   AGE     DIS  RAD  TAX  PTRATIO  \\\n",
       "0  0.00632  18.0   2.31   0.0  0.538  6.575  65.2  4.0900    1  296     15.3   \n",
       "1  0.02731   0.0   7.07   0.0  0.469  6.421  78.9  4.9671    2  242     17.8   \n",
       "2  0.02729   0.0   7.07   0.0  0.469  7.185  61.1  4.9671    2  242     17.8   \n",
       "3  0.03237   0.0   2.18   0.0  0.458  6.998  45.8  6.0622    3  222     18.7   \n",
       "4  0.06905   0.0   2.18   0.0  0.458  7.147  54.2  6.0622    3  222     18.7   \n",
       "\n",
       "        B  LSTAT  MEDV  \n",
       "0  396.90   4.98  24.0  \n",
       "1  396.90   9.14  21.6  \n",
       "2  392.83   4.03  34.7  \n",
       "3  394.63   2.94  33.4  \n",
       "4  396.90    NaN  36.2  "
      ]
     },
     "execution_count": 3,
     "metadata": {},
     "output_type": "execute_result"
    }
   ],
   "source": [
    "df = pd.read_csv('./dataset/HousingData.csv')\n",
    "df.head()"
   ]
  },
  {
   "cell_type": "code",
   "execution_count": 4,
   "id": "4be3184b",
   "metadata": {},
   "outputs": [
    {
     "data": {
      "text/plain": [
       "(506, 14)"
      ]
     },
     "execution_count": 4,
     "metadata": {},
     "output_type": "execute_result"
    },
    {
     "data": {
      "text/plain": [
       "(506, 14)"
      ]
     },
     "execution_count": 4,
     "metadata": {},
     "output_type": "execute_result"
    }
   ],
   "source": [
    "df.shape"
   ]
  },
  {
   "cell_type": "code",
   "execution_count": null,
   "id": "6d740f1f",
   "metadata": {},
   "outputs": [
    {
     "data": {
      "text/plain": [
       "CRIM       20\n",
       "ZN         20\n",
       "INDUS      20\n",
       "CHAS       20\n",
       "NOX         0\n",
       "RM          0\n",
       "AGE        20\n",
       "DIS         0\n",
       "RAD         0\n",
       "TAX         0\n",
       "PTRATIO     0\n",
       "B           0\n",
       "LSTAT      20\n",
       "MEDV        0\n",
       "dtype: int64"
      ]
     },
     "execution_count": 5,
     "metadata": {},
     "output_type": "execute_result"
    }
   ],
   "source": [
    "df.isnull().sum()"
   ]
  },
  {
   "cell_type": "code",
   "execution_count": null,
   "id": "6a6b3bde",
   "metadata": {},
   "outputs": [
    {
     "data": {
      "text/plain": [
       "CRIM       0\n",
       "ZN         0\n",
       "INDUS      0\n",
       "CHAS       0\n",
       "NOX        0\n",
       "RM         0\n",
       "AGE        0\n",
       "DIS        0\n",
       "RAD        0\n",
       "TAX        0\n",
       "PTRATIO    0\n",
       "B          0\n",
       "LSTAT      0\n",
       "MEDV       0\n",
       "dtype: int64"
      ]
     },
     "execution_count": 6,
     "metadata": {},
     "output_type": "execute_result"
    }
   ],
   "source": [
    "df.dropna(axis = 0, inplace = True)\n",
    "df.isnull().sum()"
   ]
  },
  {
   "cell_type": "code",
   "execution_count": 7,
   "id": "a868c17a",
   "metadata": {},
   "outputs": [
    {
     "data": {
      "text/plain": [
       "<Axes: >"
      ]
     },
     "execution_count": 7,
     "metadata": {},
     "output_type": "execute_result"
    },
    {
     "data": {
      "image/png": "[encoded data removed]",
      "text/plain": [
       "<Figure size 1400x800 with 2 Axes>"
      ]
     },
     "metadata": {},
     "output_type": "display_data"
    }
   ],
   "source": [
    "plt.figure(figsize=(14,8))\n",
    "sns.heatmap(data = df.corr(), annot = True, cmap = 'cool')"
   ]
  },
  {
   "cell_type": "code",
   "execution_count": 8,
   "id": "cc23059a",
   "metadata": {},
   "outputs": [
    {
     "name": "stdout",
     "output_type": "stream",
     "text": [
      "<class 'pandas.core.frame.DataFrame'>\n",
      "Index: 394 entries, 0 to 504\n",
      "Data columns (total 14 columns):\n",
      " #   Column   Non-Null Count  Dtype  \n",
      "---  ------   --------------  -----  \n",
      " 0   CRIM     394 non-null    float64\n",
      " 1   ZN       394 non-null    float64\n",
      " 2   INDUS    394 non-null    float64\n",
      " 3   CHAS     394 non-null    float64\n",
      " 4   NOX      394 non-null    float64\n",
      " 5   RM       394 non-null    float64\n",
      " 6   AGE      394 non-null    float64\n",
      " 7   DIS      394 non-null    float64\n",
      " 8   RAD      394 non-null    int64  \n",
      " 9   TAX      394 non-null    int64  \n",
      " 10  PTRATIO  394 non-null    float64\n",
      " 11  B        394 non-null    float64\n",
      " 12  LSTAT    394 non-null    float64\n",
      " 13  MEDV     394 non-null    float64\n",
      "dtypes: float64(12), int64(2)\n",
      "memory usage: 46.2 KB\n"
     ]
    }
   ],
   "source": [
    "df.info()"
   ]
  },
  {
   "cell_type": "markdown",
   "id": "e2117bd5",
   "metadata": {},
   "source": [
    "## Preprocessing"
   ]
  },
  {
   "cell_type": "code",
   "execution_count": 9,
   "id": "4ea15b01",
   "metadata": {},
   "outputs": [],
   "source": [
    "X = df.iloc[:, df.columns != 'MEDV']\n",
    "y = df.iloc[:, df.columns == 'MEDV']"
   ]
  },
  {
   "cell_type": "code",
   "execution_count": 10,
   "id": "200afb80",
   "metadata": {},
   "outputs": [],
   "source": [
    "X_train, X_test, y_train, y_test = train_test_split(X, y, test_size = 0.2, random_state = 28)"
   ]
  },
  {
   "cell_type": "code",
   "execution_count": 11,
   "id": "3e61bb1b",
   "metadata": {},
   "outputs": [
    {
     "name": "stdout",
     "output_type": "stream",
     "text": [
      "((315, 13), <class 'pandas.core.frame.DataFrame'>) ((79, 13), <class 'pandas.core.frame.DataFrame'>) ((315, 1), <class 'pandas.core.frame.DataFrame'>) ((79, 1), <class 'pandas.core.frame.DataFrame'>)\n"
     ]
    }
   ],
   "source": [
    "print((X_train.shape, type(X_train)),\n",
    "(X_test.shape, type(X_test)),\n",
    "(y_train.shape, type(X_train)),\n",
    "(y_test.shape, type(y_test)))"
   ]
  },
  {
   "cell_type": "code",
   "execution_count": 12,
   "id": "aaa5a07f",
   "metadata": {},
   "outputs": [],
   "source": [
    "scaler = MinMaxScaler()"
   ]
  },
  {
   "cell_type": "code",
   "execution_count": 13,
   "id": "049a071e",
   "metadata": {},
   "outputs": [],
   "source": [
    "X_train = scaler.fit_transform(X_train)\n",
    "X_test = scaler.transform(X_test)"
   ]
  },
  {
   "cell_type": "code",
   "execution_count": 14,
   "id": "d069c7ef",
   "metadata": {},
   "outputs": [
    {
     "data": {
      "text/plain": [
       "array([[2.74290580e-02, 0.00000000e+00, 7.00879765e-01, ...,\n",
       "        2.23404255e-01, 2.16096631e-01, 4.36138015e-01],\n",
       "       [4.12386754e-04, 8.42105263e-01, 5.31524927e-02, ...,\n",
       "        1.00000000e+00, 9.64144946e-01, 1.91283293e-01],\n",
       "       [8.41857941e-05, 8.42105263e-01, 0.00000000e+00, ...,\n",
       "        1.91489362e-01, 9.93210426e-01, 3.75302663e-02],\n",
       "       ...,\n",
       "       [1.00895269e-01, 0.00000000e+00, 6.46627566e-01, ...,\n",
       "        8.08510638e-01, 9.51252384e-01, 4.80326877e-01],\n",
       "       [1.55367187e-03, 1.31578947e-01, 2.71627566e-01, ...,\n",
       "        2.76595745e-01, 1.00000000e+00, 5.27239709e-01],\n",
       "       [6.84726112e-04, 0.00000000e+00, 1.01906158e-01, ...,\n",
       "        4.57446809e-01, 9.44844247e-01, 1.69794189e-01]])"
      ]
     },
     "execution_count": 14,
     "metadata": {},
     "output_type": "execute_result"
    }
   ],
   "source": [
    "X_train"
   ]
  },
  {
   "cell_type": "code",
   "execution_count": 15,
   "id": "66021b35",
   "metadata": {},
   "outputs": [
    {
     "data": {
      "text/plain": [
       "array([[1.71338885e-03, 0.00000000e+00, 3.79398827e-01, ...,\n",
       "        7.02127660e-01, 9.49243484e-01, 2.46670702e-01],\n",
       "       [2.53914920e-01, 0.00000000e+00, 6.46627566e-01, ...,\n",
       "        8.08510638e-01, 1.00000000e+00, 9.15859564e-01],\n",
       "       [5.24896740e-04, 0.00000000e+00, 1.08137830e-01, ...,\n",
       "        5.53191489e-01, 9.97863954e-01, 1.20157385e-01],\n",
       "       ...,\n",
       "       [2.59366428e-02, 0.00000000e+00, 7.00879765e-01, ...,\n",
       "        2.23404255e-01, 8.75982200e-01, 3.11743341e-01],\n",
       "       [9.07610531e-04, 0.00000000e+00, 4.53445748e-01, ...,\n",
       "        6.48936170e-01, 9.74723458e-01, 2.58474576e-01],\n",
       "       [6.75509510e-04, 0.00000000e+00, 1.31598240e-01, ...,\n",
       "        4.25531915e-01, 9.85683408e-01, 1.57082324e-01]])"
      ]
     },
     "execution_count": 15,
     "metadata": {},
     "output_type": "execute_result"
    }
   ],
   "source": [
    "X_test"
   ]
  },
  {
   "cell_type": "code",
   "execution_count": 16,
   "id": "5d24a76f",
   "metadata": {},
   "outputs": [
    {
     "data": {
      "text/html": [
       "<div>\n",
       "<style scoped>\n",
       "    .dataframe tbody tr th:only-of-type {\n",
       "        vertical-align: middle;\n",
       "    }\n",
       "\n",
       "    .dataframe tbody tr th {\n",
       "        vertical-align: top;\n",
       "    }\n",
       "\n",
       "    .dataframe thead th {\n",
       "        text-align: right;\n",
       "    }\n",
       "</style>\n",
       "<table border=\"1\" class=\"dataframe\">\n",
       "  <thead>\n",
       "    <tr style=\"text-align: right;\">\n",
       "      <th></th>\n",
       "      <th>MEDV</th>\n",
       "    </tr>\n",
       "  </thead>\n",
       "  <tbody>\n",
       "    <tr>\n",
       "      <th>71</th>\n",
       "      <td>21.7</td>\n",
       "    </tr>\n",
       "    <tr>\n",
       "      <th>387</th>\n",
       "      <td>7.4</td>\n",
       "    </tr>\n",
       "    <tr>\n",
       "      <th>89</th>\n",
       "      <td>28.7</td>\n",
       "    </tr>\n",
       "    <tr>\n",
       "      <th>485</th>\n",
       "      <td>21.2</td>\n",
       "    </tr>\n",
       "    <tr>\n",
       "      <th>358</th>\n",
       "      <td>22.7</td>\n",
       "    </tr>\n",
       "    <tr>\n",
       "      <th>...</th>\n",
       "      <td>...</td>\n",
       "    </tr>\n",
       "    <tr>\n",
       "      <th>194</th>\n",
       "      <td>29.1</td>\n",
       "    </tr>\n",
       "    <tr>\n",
       "      <th>326</th>\n",
       "      <td>23.0</td>\n",
       "    </tr>\n",
       "    <tr>\n",
       "      <th>171</th>\n",
       "      <td>19.1</td>\n",
       "    </tr>\n",
       "    <tr>\n",
       "      <th>77</th>\n",
       "      <td>20.8</td>\n",
       "    </tr>\n",
       "    <tr>\n",
       "      <th>178</th>\n",
       "      <td>29.9</td>\n",
       "    </tr>\n",
       "  </tbody>\n",
       "</table>\n",
       "<p>79 rows × 1 columns</p>\n",
       "</div>"
      ],
      "text/plain": [
       "     MEDV\n",
       "71   21.7\n",
       "387   7.4\n",
       "89   28.7\n",
       "485  21.2\n",
       "358  22.7\n",
       "..    ...\n",
       "194  29.1\n",
       "326  23.0\n",
       "171  19.1\n",
       "77   20.8\n",
       "178  29.9\n",
       "\n",
       "[79 rows x 1 columns]"
      ]
     },
     "execution_count": 16,
     "metadata": {},
     "output_type": "execute_result"
    }
   ],
   "source": [
    "y_test"
   ]
  },
  {
   "cell_type": "code",
   "execution_count": null,
   "id": "53208283",
   "metadata": {},
   "outputs": [],
   "source": []
  },
  {
   "cell_type": "markdown",
   "id": "fd7aa575",
   "metadata": {},
   "source": [
    "## Model Creation"
   ]
  },
  {
   "cell_type": "code",
   "execution_count": 17,
   "id": "30972c83",
   "metadata": {},
   "outputs": [],
   "source": [
    "model = Sequential()"
   ]
  },
  {
   "cell_type": "code",
   "execution_count": 18,
   "id": "6d0f191c",
   "metadata": {},
   "outputs": [],
   "source": [
    "# Adding a single layer with single neuron\n",
    "model.add(Dense(128, activation='relu', input_shape=(X_train.shape[1],)))\n",
    "model.add(Dense(64,activation='relu'))\n",
    "model.add(Dense(1, activation = 'linear'))"
   ]
  },
  {
   "cell_type": "code",
   "execution_count": 19,
   "id": "f4c5c3f6",
   "metadata": {},
   "outputs": [],
   "source": [
    "model.compile(optimizer = 'adam', loss = 'mse')"
   ]
  },
  {
   "cell_type": "code",
   "execution_count": 20,
   "id": "5103bea8",
   "metadata": {},
   "outputs": [
    {
     "name": "stdout",
     "output_type": "stream",
     "text": [
      "Model: \"sequential\"\n",
      "_________________________________________________________________\n",
      " Layer (type)                Output Shape              Param #   \n",
      "=================================================================\n",
      " dense (Dense)               (None, 128)               1792      \n",
      "                                                                 \n",
      " dense_1 (Dense)             (None, 64)                8256      \n",
      "                                                                 \n",
      " dense_2 (Dense)             (None, 1)                 65        \n",
      "                                                                 \n",
      "=================================================================\n",
      "Total params: 10113 (39.50 KB)\n",
      "Trainable params: 10113 (39.50 KB)\n",
      "Non-trainable params: 0 (0.00 Byte)\n",
      "_________________________________________________________________\n"
     ]
    }
   ],
   "source": [
    "model.summary()"
   ]
  },
  {
   "cell_type": "code",
   "execution_count": 21,
   "id": "14ef1284",
   "metadata": {},
   "outputs": [
    {
     "name": "stdout",
     "output_type": "stream",
     "text": [
      "Epoch 1/200\n",
      "10/10 [==============================] - 1s 18ms/step - loss: 590.6439 - val_loss: 540.2034\n",
      "Epoch 2/200\n",
      "10/10 [==============================] - 0s 4ms/step - loss: 555.4613 - val_loss: 504.9508\n",
      "Epoch 3/200\n",
      "10/10 [==============================] - 0s 4ms/step - loss: 513.4947 - val_loss: 452.5965\n",
      "Epoch 4/200\n",
      "10/10 [==============================] - 0s 4ms/step - loss: 449.7336 - val_loss: 373.3280\n",
      "Epoch 5/200\n",
      "10/10 [==============================] - 0s 4ms/step - loss: 357.8497 - val_loss: 267.2076\n",
      "Epoch 6/200\n",
      "10/10 [==============================] - 0s 4ms/step - loss: 251.5739 - val_loss: 153.8554\n",
      "Epoch 7/200\n",
      "10/10 [==============================] - 0s 4ms/step - loss: 163.9156 - val_loss: 81.1694\n",
      "Epoch 8/200\n",
      "10/10 [==============================] - 0s 4ms/step - loss: 132.7211 - val_loss: 60.4853\n",
      "Epoch 9/200\n",
      "10/10 [==============================] - 0s 4ms/step - loss: 118.8211 - val_loss: 54.8954\n",
      "Epoch 10/200\n",
      "10/10 [==============================] - 0s 3ms/step - loss: 103.3612 - val_loss: 51.7280\n",
      "Epoch 11/200\n",
      "10/10 [==============================] - 0s 3ms/step - loss: 90.9105 - val_loss: 47.2865\n",
      "Epoch 12/200\n",
      "10/10 [==============================] - 0s 3ms/step - loss: 80.2524 - val_loss: 41.7022\n",
      "Epoch 13/200\n",
      "10/10 [==============================] - 0s 3ms/step - loss: 71.0352 - val_loss: 37.2401\n",
      "Epoch 14/200\n",
      "10/10 [==============================] - 0s 4ms/step - loss: 63.4748 - val_loss: 34.0224\n",
      "Epoch 15/200\n",
      "10/10 [==============================] - 0s 3ms/step - loss: 57.8761 - val_loss: 30.9691\n",
      "Epoch 16/200\n",
      "10/10 [==============================] - 0s 5ms/step - loss: 52.7281 - val_loss: 28.7728\n",
      "Epoch 17/200\n",
      "10/10 [==============================] - 0s 5ms/step - loss: 49.2068 - val_loss: 27.1602\n",
      "Epoch 18/200\n",
      "10/10 [==============================] - 0s 4ms/step - loss: 46.5611 - val_loss: 25.8395\n",
      "Epoch 19/200\n",
      "10/10 [==============================] - 0s 3ms/step - loss: 44.3454 - val_loss: 24.4071\n",
      "Epoch 20/200\n",
      "10/10 [==============================] - 0s 4ms/step - loss: 42.5436 - val_loss: 23.2835\n",
      "Epoch 21/200\n",
      "10/10 [==============================] - 0s 4ms/step - loss: 41.0734 - val_loss: 22.5250\n",
      "Epoch 22/200\n",
      "10/10 [==============================] - 0s 4ms/step - loss: 39.4495 - val_loss: 22.0405\n",
      "Epoch 23/200\n",
      "10/10 [==============================] - 0s 4ms/step - loss: 37.9921 - val_loss: 21.5050\n",
      "Epoch 24/200\n",
      "10/10 [==============================] - 0s 4ms/step - loss: 36.5735 - val_loss: 20.9117\n",
      "Epoch 25/200\n",
      "10/10 [==============================] - 0s 4ms/step - loss: 35.1891 - val_loss: 20.3199\n",
      "Epoch 26/200\n",
      "10/10 [==============================] - 0s 4ms/step - loss: 34.0109 - val_loss: 19.8051\n",
      "Epoch 27/200\n",
      "10/10 [==============================] - 0s 4ms/step - loss: 32.4472 - val_loss: 19.6705\n",
      "Epoch 28/200\n",
      "10/10 [==============================] - 0s 4ms/step - loss: 31.4181 - val_loss: 18.8455\n",
      "Epoch 29/200\n",
      "10/10 [==============================] - 0s 4ms/step - loss: 30.3570 - val_loss: 18.2071\n",
      "Epoch 30/200\n",
      "10/10 [==============================] - 0s 4ms/step - loss: 29.2737 - val_loss: 18.3834\n",
      "Epoch 31/200\n",
      "10/10 [==============================] - 0s 4ms/step - loss: 28.0780 - val_loss: 17.2357\n",
      "Epoch 32/200\n",
      "10/10 [==============================] - 0s 4ms/step - loss: 27.2954 - val_loss: 16.9577\n",
      "Epoch 33/200\n",
      "10/10 [==============================] - 0s 3ms/step - loss: 26.3669 - val_loss: 16.8925\n",
      "Epoch 34/200\n",
      "10/10 [==============================] - 0s 4ms/step - loss: 25.5622 - val_loss: 16.3828\n",
      "Epoch 35/200\n",
      "10/10 [==============================] - 0s 7ms/step - loss: 24.7629 - val_loss: 16.3859\n",
      "Epoch 36/200\n",
      "10/10 [==============================] - 0s 5ms/step - loss: 24.0576 - val_loss: 16.3419\n",
      "Epoch 37/200\n",
      "10/10 [==============================] - 0s 3ms/step - loss: 23.3740 - val_loss: 15.9235\n",
      "Epoch 38/200\n",
      "10/10 [==============================] - 0s 4ms/step - loss: 22.9753 - val_loss: 15.7917\n",
      "Epoch 39/200\n",
      "10/10 [==============================] - 0s 4ms/step - loss: 22.1942 - val_loss: 15.5554\n",
      "Epoch 40/200\n",
      "10/10 [==============================] - 0s 5ms/step - loss: 21.7005 - val_loss: 15.5730\n",
      "Epoch 41/200\n",
      "10/10 [==============================] - 0s 4ms/step - loss: 21.1256 - val_loss: 15.2565\n",
      "Epoch 42/200\n",
      "10/10 [==============================] - 0s 4ms/step - loss: 21.1239 - val_loss: 15.4671\n",
      "Epoch 43/200\n",
      "10/10 [==============================] - 0s 4ms/step - loss: 20.2248 - val_loss: 15.0873\n",
      "Epoch 44/200\n",
      "10/10 [==============================] - 0s 4ms/step - loss: 19.9464 - val_loss: 15.3519\n",
      "Epoch 45/200\n",
      "10/10 [==============================] - 0s 4ms/step - loss: 19.5842 - val_loss: 15.3680\n",
      "Epoch 46/200\n",
      "10/10 [==============================] - 0s 3ms/step - loss: 19.2346 - val_loss: 15.3768\n",
      "Epoch 47/200\n",
      "10/10 [==============================] - 0s 3ms/step - loss: 19.0681 - val_loss: 14.9879\n",
      "Epoch 48/200\n",
      "10/10 [==============================] - 0s 4ms/step - loss: 18.9115 - val_loss: 15.6680\n",
      "Epoch 49/200\n",
      "10/10 [==============================] - 0s 4ms/step - loss: 18.5496 - val_loss: 15.3899\n",
      "Epoch 50/200\n",
      "10/10 [==============================] - 0s 4ms/step - loss: 18.3924 - val_loss: 15.2717\n",
      "Epoch 51/200\n",
      "10/10 [==============================] - 0s 3ms/step - loss: 18.1573 - val_loss: 15.6503\n",
      "Epoch 52/200\n",
      "10/10 [==============================] - 0s 3ms/step - loss: 18.2640 - val_loss: 15.9306\n",
      "Epoch 53/200\n",
      "10/10 [==============================] - 0s 3ms/step - loss: 17.9014 - val_loss: 15.8268\n",
      "Epoch 54/200\n",
      "10/10 [==============================] - 0s 4ms/step - loss: 17.7361 - val_loss: 16.0022\n",
      "Epoch 55/200\n",
      "10/10 [==============================] - 0s 6ms/step - loss: 17.4850 - val_loss: 15.7168\n",
      "Epoch 56/200\n",
      "10/10 [==============================] - 0s 3ms/step - loss: 17.3527 - val_loss: 15.3823\n",
      "Epoch 57/200\n",
      "10/10 [==============================] - 0s 3ms/step - loss: 17.4605 - val_loss: 15.4154\n",
      "Epoch 58/200\n",
      "10/10 [==============================] - 0s 4ms/step - loss: 17.1274 - val_loss: 15.3657\n",
      "Epoch 59/200\n",
      "10/10 [==============================] - 0s 4ms/step - loss: 16.9886 - val_loss: 15.5275\n",
      "Epoch 60/200\n",
      "10/10 [==============================] - 0s 3ms/step - loss: 17.0770 - val_loss: 15.1918\n",
      "Epoch 61/200\n",
      "10/10 [==============================] - 0s 4ms/step - loss: 16.7565 - val_loss: 15.1104\n",
      "Epoch 62/200\n",
      "10/10 [==============================] - 0s 4ms/step - loss: 16.7811 - val_loss: 15.4422\n",
      "Epoch 63/200\n",
      "10/10 [==============================] - 0s 4ms/step - loss: 16.4789 - val_loss: 14.9283\n",
      "Epoch 64/200\n",
      "10/10 [==============================] - 0s 3ms/step - loss: 16.4566 - val_loss: 14.8388\n",
      "Epoch 65/200\n",
      "10/10 [==============================] - 0s 4ms/step - loss: 16.3431 - val_loss: 14.8762\n",
      "Epoch 66/200\n",
      "10/10 [==============================] - 0s 4ms/step - loss: 16.2388 - val_loss: 14.6778\n",
      "Epoch 67/200\n",
      "10/10 [==============================] - 0s 4ms/step - loss: 16.0954 - val_loss: 14.6473\n",
      "Epoch 68/200\n",
      "10/10 [==============================] - 0s 4ms/step - loss: 16.1267 - val_loss: 14.6405\n",
      "Epoch 69/200\n",
      "10/10 [==============================] - 0s 4ms/step - loss: 15.9654 - val_loss: 14.6501\n",
      "Epoch 70/200\n",
      "10/10 [==============================] - 0s 5ms/step - loss: 15.9168 - val_loss: 14.6443\n",
      "Epoch 71/200\n",
      "10/10 [==============================] - 0s 4ms/step - loss: 16.0658 - val_loss: 14.3770\n",
      "Epoch 72/200\n",
      "10/10 [==============================] - 0s 4ms/step - loss: 15.7587 - val_loss: 14.7569\n",
      "Epoch 73/200\n",
      "10/10 [==============================] - 0s 4ms/step - loss: 15.5593 - val_loss: 14.5351\n",
      "Epoch 74/200\n",
      "10/10 [==============================] - 0s 4ms/step - loss: 15.6344 - val_loss: 14.4711\n",
      "Epoch 75/200\n",
      "10/10 [==============================] - 0s 4ms/step - loss: 15.5115 - val_loss: 14.5605\n",
      "Epoch 76/200\n",
      "10/10 [==============================] - 0s 3ms/step - loss: 15.5369 - val_loss: 14.3034\n",
      "Epoch 77/200\n",
      "10/10 [==============================] - 0s 3ms/step - loss: 15.5902 - val_loss: 14.5005\n",
      "Epoch 78/200\n",
      "10/10 [==============================] - 0s 3ms/step - loss: 15.3579 - val_loss: 14.3545\n",
      "Epoch 79/200\n",
      "10/10 [==============================] - 0s 3ms/step - loss: 15.2012 - val_loss: 14.2758\n",
      "Epoch 80/200\n",
      "10/10 [==============================] - 0s 4ms/step - loss: 15.4258 - val_loss: 14.4498\n",
      "Epoch 81/200\n"
     ]
    },
    {
     "name": "stdout",
     "output_type": "stream",
     "text": [
      "10/10 [==============================] - 0s 4ms/step - loss: 15.0824 - val_loss: 14.3232\n",
      "Epoch 82/200\n",
      "10/10 [==============================] - 0s 4ms/step - loss: 14.8700 - val_loss: 14.1587\n",
      "Epoch 83/200\n",
      "10/10 [==============================] - 0s 4ms/step - loss: 14.9639 - val_loss: 14.0197\n",
      "Epoch 84/200\n",
      "10/10 [==============================] - 0s 4ms/step - loss: 14.9058 - val_loss: 14.1548\n",
      "Epoch 85/200\n",
      "10/10 [==============================] - 0s 3ms/step - loss: 14.8587 - val_loss: 13.9535\n",
      "Epoch 86/200\n",
      "10/10 [==============================] - 0s 3ms/step - loss: 14.6089 - val_loss: 14.2384\n",
      "Epoch 87/200\n",
      "10/10 [==============================] - 0s 3ms/step - loss: 14.5652 - val_loss: 13.9606\n",
      "Epoch 88/200\n",
      "10/10 [==============================] - 0s 3ms/step - loss: 14.4907 - val_loss: 13.8315\n",
      "Epoch 89/200\n",
      "10/10 [==============================] - 0s 4ms/step - loss: 14.4125 - val_loss: 13.5449\n",
      "Epoch 90/200\n",
      "10/10 [==============================] - 0s 4ms/step - loss: 14.4630 - val_loss: 13.4207\n",
      "Epoch 91/200\n",
      "10/10 [==============================] - 0s 4ms/step - loss: 14.4053 - val_loss: 13.3914\n",
      "Epoch 92/200\n",
      "10/10 [==============================] - 0s 4ms/step - loss: 14.2425 - val_loss: 13.4760\n",
      "Epoch 93/200\n",
      "10/10 [==============================] - 0s 4ms/step - loss: 14.2831 - val_loss: 13.4523\n",
      "Epoch 94/200\n",
      "10/10 [==============================] - 0s 3ms/step - loss: 14.1705 - val_loss: 13.2025\n",
      "Epoch 95/200\n",
      "10/10 [==============================] - 0s 3ms/step - loss: 14.1511 - val_loss: 12.9628\n",
      "Epoch 96/200\n",
      "10/10 [==============================] - 0s 4ms/step - loss: 14.0845 - val_loss: 13.2516\n",
      "Epoch 97/200\n",
      "10/10 [==============================] - 0s 5ms/step - loss: 13.9786 - val_loss: 13.2473\n",
      "Epoch 98/200\n",
      "10/10 [==============================] - 0s 6ms/step - loss: 14.4576 - val_loss: 13.3861\n",
      "Epoch 99/200\n",
      "10/10 [==============================] - 0s 3ms/step - loss: 13.8442 - val_loss: 13.3795\n",
      "Epoch 100/200\n",
      "10/10 [==============================] - 0s 4ms/step - loss: 13.8565 - val_loss: 13.1689\n",
      "Epoch 101/200\n",
      "10/10 [==============================] - 0s 3ms/step - loss: 13.7640 - val_loss: 13.2812\n",
      "Epoch 102/200\n",
      "10/10 [==============================] - 0s 3ms/step - loss: 13.4653 - val_loss: 13.2951\n",
      "Epoch 103/200\n",
      "10/10 [==============================] - 0s 3ms/step - loss: 13.7507 - val_loss: 13.3606\n",
      "Epoch 104/200\n",
      "10/10 [==============================] - 0s 3ms/step - loss: 13.6801 - val_loss: 13.1641\n",
      "Epoch 105/200\n",
      "10/10 [==============================] - 0s 3ms/step - loss: 13.5136 - val_loss: 12.8438\n",
      "Epoch 106/200\n",
      "10/10 [==============================] - 0s 4ms/step - loss: 13.4669 - val_loss: 12.8059\n",
      "Epoch 107/200\n",
      "10/10 [==============================] - 0s 4ms/step - loss: 13.3701 - val_loss: 12.8130\n",
      "Epoch 108/200\n",
      "10/10 [==============================] - 0s 3ms/step - loss: 13.2622 - val_loss: 12.7271\n",
      "Epoch 109/200\n",
      "10/10 [==============================] - 0s 4ms/step - loss: 13.1617 - val_loss: 12.4765\n",
      "Epoch 110/200\n",
      "10/10 [==============================] - 0s 3ms/step - loss: 13.0272 - val_loss: 12.7103\n",
      "Epoch 111/200\n",
      "10/10 [==============================] - 0s 3ms/step - loss: 13.1743 - val_loss: 12.6387\n",
      "Epoch 112/200\n",
      "10/10 [==============================] - 0s 3ms/step - loss: 13.2114 - val_loss: 12.9854\n",
      "Epoch 113/200\n",
      "10/10 [==============================] - 0s 4ms/step - loss: 13.0647 - val_loss: 12.9980\n",
      "Epoch 114/200\n",
      "10/10 [==============================] - 0s 3ms/step - loss: 12.7459 - val_loss: 12.9076\n",
      "Epoch 115/200\n",
      "10/10 [==============================] - 0s 3ms/step - loss: 12.7773 - val_loss: 12.9339\n",
      "Epoch 116/200\n",
      "10/10 [==============================] - 0s 3ms/step - loss: 12.7100 - val_loss: 13.0169\n",
      "Epoch 117/200\n",
      "10/10 [==============================] - 0s 4ms/step - loss: 12.7707 - val_loss: 13.3218\n",
      "Epoch 118/200\n",
      "10/10 [==============================] - 0s 3ms/step - loss: 12.9150 - val_loss: 12.9794\n",
      "Epoch 119/200\n",
      "10/10 [==============================] - 0s 4ms/step - loss: 12.5311 - val_loss: 13.2042\n",
      "Epoch 120/200\n",
      "10/10 [==============================] - 0s 4ms/step - loss: 12.3410 - val_loss: 13.3413\n",
      "Epoch 121/200\n",
      "10/10 [==============================] - 0s 3ms/step - loss: 12.4770 - val_loss: 12.9656\n",
      "Epoch 122/200\n",
      "10/10 [==============================] - 0s 3ms/step - loss: 12.3723 - val_loss: 12.8668\n",
      "Epoch 123/200\n",
      "10/10 [==============================] - 0s 4ms/step - loss: 12.2662 - val_loss: 13.1385\n",
      "Epoch 124/200\n",
      "10/10 [==============================] - 0s 3ms/step - loss: 12.2523 - val_loss: 13.1941\n",
      "Epoch 125/200\n",
      "10/10 [==============================] - 0s 3ms/step - loss: 12.0563 - val_loss: 13.0202\n",
      "Epoch 126/200\n",
      "10/10 [==============================] - 0s 3ms/step - loss: 12.1687 - val_loss: 13.3167\n",
      "Epoch 127/200\n",
      "10/10 [==============================] - 0s 4ms/step - loss: 11.9883 - val_loss: 13.1492\n",
      "Epoch 128/200\n",
      "10/10 [==============================] - 0s 4ms/step - loss: 11.8957 - val_loss: 13.0486\n",
      "Epoch 129/200\n",
      "10/10 [==============================] - 0s 5ms/step - loss: 11.9710 - val_loss: 12.6958\n",
      "Epoch 130/200\n",
      "10/10 [==============================] - 0s 3ms/step - loss: 11.7972 - val_loss: 13.1220\n",
      "Epoch 131/200\n",
      "10/10 [==============================] - 0s 4ms/step - loss: 11.7046 - val_loss: 13.6410\n",
      "Epoch 132/200\n",
      "10/10 [==============================] - 0s 3ms/step - loss: 11.7973 - val_loss: 13.4421\n",
      "Epoch 133/200\n",
      "10/10 [==============================] - 0s 4ms/step - loss: 11.6500 - val_loss: 13.3516\n",
      "Epoch 134/200\n",
      "10/10 [==============================] - 0s 3ms/step - loss: 11.4757 - val_loss: 13.5715\n",
      "Epoch 135/200\n",
      "10/10 [==============================] - 0s 4ms/step - loss: 11.6030 - val_loss: 13.2979\n",
      "Epoch 136/200\n",
      "10/10 [==============================] - 0s 4ms/step - loss: 11.5638 - val_loss: 13.1940\n",
      "Epoch 137/200\n",
      "10/10 [==============================] - 0s 3ms/step - loss: 11.3786 - val_loss: 13.2038\n",
      "Epoch 138/200\n",
      "10/10 [==============================] - 0s 4ms/step - loss: 11.3935 - val_loss: 13.2009\n",
      "Epoch 139/200\n",
      "10/10 [==============================] - 0s 4ms/step - loss: 11.7982 - val_loss: 13.8207\n",
      "Epoch 140/200\n",
      "10/10 [==============================] - 0s 5ms/step - loss: 11.5323 - val_loss: 13.3696\n",
      "Epoch 141/200\n",
      "10/10 [==============================] - 0s 5ms/step - loss: 11.5147 - val_loss: 13.1527\n",
      "Epoch 142/200\n",
      "10/10 [==============================] - 0s 3ms/step - loss: 11.2538 - val_loss: 13.7571\n",
      "Epoch 143/200\n",
      "10/10 [==============================] - 0s 4ms/step - loss: 11.2704 - val_loss: 14.0948\n",
      "Epoch 144/200\n",
      "10/10 [==============================] - 0s 3ms/step - loss: 11.0325 - val_loss: 13.3705\n",
      "Epoch 145/200\n",
      "10/10 [==============================] - 0s 3ms/step - loss: 10.8739 - val_loss: 13.2195\n",
      "Epoch 146/200\n",
      "10/10 [==============================] - 0s 3ms/step - loss: 10.8927 - val_loss: 13.1432\n",
      "Epoch 147/200\n",
      "10/10 [==============================] - 0s 4ms/step - loss: 10.7581 - val_loss: 13.7982\n",
      "Epoch 148/200\n",
      "10/10 [==============================] - 0s 4ms/step - loss: 11.0100 - val_loss: 13.2600\n",
      "Epoch 149/200\n",
      "10/10 [==============================] - 0s 4ms/step - loss: 10.6146 - val_loss: 13.4621\n",
      "Epoch 150/200\n",
      "10/10 [==============================] - 0s 3ms/step - loss: 10.5874 - val_loss: 13.9252\n",
      "Epoch 151/200\n",
      "10/10 [==============================] - 0s 3ms/step - loss: 10.5833 - val_loss: 13.6525\n",
      "Epoch 152/200\n",
      "10/10 [==============================] - 0s 3ms/step - loss: 10.5668 - val_loss: 12.9944\n",
      "Epoch 153/200\n",
      "10/10 [==============================] - 0s 3ms/step - loss: 10.9543 - val_loss: 13.7178\n",
      "Epoch 154/200\n",
      "10/10 [==============================] - 0s 4ms/step - loss: 10.6727 - val_loss: 13.4303\n",
      "Epoch 155/200\n",
      "10/10 [==============================] - 0s 4ms/step - loss: 10.5426 - val_loss: 14.3720\n",
      "Epoch 156/200\n",
      "10/10 [==============================] - 0s 4ms/step - loss: 10.7603 - val_loss: 13.3162\n",
      "Epoch 157/200\n",
      "10/10 [==============================] - 0s 5ms/step - loss: 11.6658 - val_loss: 14.9464\n",
      "Epoch 158/200\n",
      "10/10 [==============================] - 0s 4ms/step - loss: 11.1808 - val_loss: 14.0860\n",
      "Epoch 159/200\n",
      "10/10 [==============================] - 0s 4ms/step - loss: 10.4670 - val_loss: 14.3261\n",
      "Epoch 160/200\n",
      "10/10 [==============================] - 0s 4ms/step - loss: 10.2304 - val_loss: 13.8859\n"
     ]
    },
    {
     "name": "stdout",
     "output_type": "stream",
     "text": [
      "Epoch 161/200\n",
      "10/10 [==============================] - 0s 4ms/step - loss: 10.1078 - val_loss: 13.6593\n",
      "Epoch 162/200\n",
      "10/10 [==============================] - 0s 4ms/step - loss: 9.9752 - val_loss: 13.8457\n",
      "Epoch 163/200\n",
      "10/10 [==============================] - 0s 4ms/step - loss: 9.9068 - val_loss: 13.9659\n",
      "Epoch 164/200\n",
      "10/10 [==============================] - 0s 4ms/step - loss: 9.8138 - val_loss: 13.9872\n",
      "Epoch 165/200\n",
      "10/10 [==============================] - 0s 4ms/step - loss: 9.8343 - val_loss: 13.9378\n",
      "Epoch 166/200\n",
      "10/10 [==============================] - 0s 4ms/step - loss: 9.9744 - val_loss: 13.8452\n",
      "Epoch 167/200\n",
      "10/10 [==============================] - 0s 4ms/step - loss: 10.3261 - val_loss: 14.2551\n",
      "Epoch 168/200\n",
      "10/10 [==============================] - 0s 3ms/step - loss: 9.6308 - val_loss: 14.3354\n",
      "Epoch 169/200\n",
      "10/10 [==============================] - 0s 4ms/step - loss: 9.6384 - val_loss: 14.8631\n",
      "Epoch 170/200\n",
      "10/10 [==============================] - 0s 3ms/step - loss: 9.6212 - val_loss: 14.5586\n",
      "Epoch 171/200\n",
      "10/10 [==============================] - 0s 4ms/step - loss: 9.5812 - val_loss: 14.3917\n",
      "Epoch 172/200\n",
      "10/10 [==============================] - 0s 5ms/step - loss: 9.5781 - val_loss: 13.9626\n",
      "Epoch 173/200\n",
      "10/10 [==============================] - 0s 5ms/step - loss: 9.7120 - val_loss: 15.2846\n",
      "Epoch 174/200\n",
      "10/10 [==============================] - 0s 3ms/step - loss: 9.9671 - val_loss: 15.0200\n",
      "Epoch 175/200\n",
      "10/10 [==============================] - 0s 3ms/step - loss: 9.3703 - val_loss: 14.9162\n",
      "Epoch 176/200\n",
      "10/10 [==============================] - 0s 3ms/step - loss: 9.3215 - val_loss: 14.4560\n",
      "Epoch 177/200\n",
      "10/10 [==============================] - 0s 3ms/step - loss: 9.3626 - val_loss: 15.1945\n",
      "Epoch 178/200\n",
      "10/10 [==============================] - 0s 3ms/step - loss: 9.3697 - val_loss: 14.4787\n",
      "Epoch 179/200\n",
      "10/10 [==============================] - 0s 3ms/step - loss: 9.5507 - val_loss: 14.9673\n",
      "Epoch 180/200\n",
      "10/10 [==============================] - 0s 3ms/step - loss: 9.6177 - val_loss: 14.3598\n",
      "Epoch 181/200\n",
      "10/10 [==============================] - 0s 5ms/step - loss: 9.2206 - val_loss: 15.0264\n",
      "Epoch 182/200\n",
      "10/10 [==============================] - 0s 7ms/step - loss: 9.5006 - val_loss: 13.9215\n",
      "Epoch 183/200\n",
      "10/10 [==============================] - 0s 4ms/step - loss: 9.0339 - val_loss: 14.3716\n",
      "Epoch 184/200\n",
      "10/10 [==============================] - 0s 3ms/step - loss: 9.1039 - val_loss: 14.4205\n",
      "Epoch 185/200\n",
      "10/10 [==============================] - 0s 3ms/step - loss: 9.1176 - val_loss: 14.2075\n",
      "Epoch 186/200\n",
      "10/10 [==============================] - 0s 4ms/step - loss: 9.1218 - val_loss: 15.0319\n",
      "Epoch 187/200\n",
      "10/10 [==============================] - 0s 4ms/step - loss: 8.9634 - val_loss: 14.3936\n",
      "Epoch 188/200\n",
      "10/10 [==============================] - 0s 4ms/step - loss: 9.2212 - val_loss: 16.0650\n",
      "Epoch 189/200\n",
      "10/10 [==============================] - 0s 4ms/step - loss: 9.2866 - val_loss: 14.5474\n",
      "Epoch 190/200\n",
      "10/10 [==============================] - 0s 4ms/step - loss: 9.6647 - val_loss: 15.0548\n",
      "Epoch 191/200\n",
      "10/10 [==============================] - 0s 3ms/step - loss: 8.8739 - val_loss: 14.2573\n",
      "Epoch 192/200\n",
      "10/10 [==============================] - 0s 3ms/step - loss: 8.8066 - val_loss: 15.5311\n",
      "Epoch 193/200\n",
      "10/10 [==============================] - 0s 3ms/step - loss: 8.8956 - val_loss: 15.4086\n",
      "Epoch 194/200\n",
      "10/10 [==============================] - 0s 3ms/step - loss: 8.8066 - val_loss: 15.0208\n",
      "Epoch 195/200\n",
      "10/10 [==============================] - 0s 3ms/step - loss: 9.1188 - val_loss: 16.1602\n",
      "Epoch 196/200\n",
      "10/10 [==============================] - 0s 3ms/step - loss: 8.6716 - val_loss: 15.6356\n",
      "Epoch 197/200\n",
      "10/10 [==============================] - 0s 3ms/step - loss: 8.6160 - val_loss: 15.0041\n",
      "Epoch 198/200\n",
      "10/10 [==============================] - 0s 3ms/step - loss: 8.6255 - val_loss: 15.4628\n",
      "Epoch 199/200\n",
      "10/10 [==============================] - 0s 3ms/step - loss: 8.4457 - val_loss: 14.9483\n",
      "Epoch 200/200\n",
      "10/10 [==============================] - 0s 3ms/step - loss: 8.4472 - val_loss: 15.3246\n"
     ]
    }
   ],
   "source": [
    "history = model.fit(X_train, y_train, batch_size=32, epochs=200, validation_split=0.05, verbose=1)"
   ]
  },
  {
   "cell_type": "code",
   "execution_count": 22,
   "id": "665a5045",
   "metadata": {},
   "outputs": [
    {
     "name": "stdout",
     "output_type": "stream",
     "text": [
      "3/3 [==============================] - 0s 1ms/step\n"
     ]
    }
   ],
   "source": [
    "y_pred = model.predict(X_test)"
   ]
  },
  {
   "cell_type": "code",
   "execution_count": 23,
   "id": "88427b5b",
   "metadata": {},
   "outputs": [
    {
     "name": "stdout",
     "output_type": "stream",
     "text": [
      "     MEDV\n",
      "71   21.7\n",
      "387   7.4\n",
      "89   28.7\n",
      "485  21.2\n",
      "358  22.7\n",
      "..    ...\n",
      "194  29.1\n",
      "326  23.0\n",
      "171  19.1\n",
      "77   20.8\n",
      "178  29.9\n",
      "\n",
      "[79 rows x 1 columns]\n",
      "[[23.055727]\n",
      " [ 9.148242]\n",
      " [31.392231]\n",
      " [23.010033]\n",
      " [25.512753]\n",
      " [40.705452]\n",
      " [22.91122 ]\n",
      " [30.653954]\n",
      " [20.09605 ]\n",
      " [29.374683]\n",
      " [26.776295]\n",
      " [13.459055]\n",
      " [18.131096]\n",
      " [24.088634]\n",
      " [21.821915]\n",
      " [25.294146]\n",
      " [33.716434]\n",
      " [16.349018]\n",
      " [33.754864]\n",
      " [ 9.611331]\n",
      " [14.560064]\n",
      " [17.174332]\n",
      " [16.533857]\n",
      " [15.768332]\n",
      " [16.606773]\n",
      " [12.720974]\n",
      " [18.981049]\n",
      " [18.618649]\n",
      " [ 9.892211]\n",
      " [21.74675 ]\n",
      " [18.669804]\n",
      " [24.367186]\n",
      " [13.95685 ]\n",
      " [19.78905 ]\n",
      " [11.109167]\n",
      " [23.220135]\n",
      " [12.745785]\n",
      " [19.981457]\n",
      " [27.315042]\n",
      " [34.169426]\n",
      " [14.545897]\n",
      " [14.676777]\n",
      " [27.00143 ]\n",
      " [16.343853]\n",
      " [12.772053]\n",
      " [23.424511]\n",
      " [25.032372]\n",
      " [14.520088]\n",
      " [32.967403]\n",
      " [16.682718]\n",
      " [12.753588]\n",
      " [17.393524]\n",
      " [16.603947]\n",
      " [25.926662]\n",
      " [18.117117]\n",
      " [19.535902]\n",
      " [39.9237  ]\n",
      " [13.234027]\n",
      " [22.909874]\n",
      " [14.869027]\n",
      " [21.917255]\n",
      " [18.80451 ]\n",
      " [29.191917]\n",
      " [29.994476]\n",
      " [27.501783]\n",
      " [20.722015]\n",
      " [11.633029]\n",
      " [20.727497]\n",
      " [ 9.173119]\n",
      " [12.011015]\n",
      " [36.82688 ]\n",
      " [18.500412]\n",
      " [30.251137]\n",
      " [12.040918]\n",
      " [31.024734]\n",
      " [23.934296]\n",
      " [21.71193 ]\n",
      " [22.484732]\n",
      " [29.995735]]\n"
     ]
    }
   ],
   "source": [
    "print(y_test)\n",
    "print(y_pred)"
   ]
  },
  {
   "cell_type": "code",
   "execution_count": 24,
   "id": "cd795e3c",
   "metadata": {},
   "outputs": [
    {
     "name": "stdout",
     "output_type": "stream",
     "text": [
      "Evaluation on Test data \n",
      "\n",
      "\n",
      "Model loss on test set: 2.3934844004956983\n",
      "Model mean squared error on test set: 9.54\n"
     ]
    }
   ],
   "source": [
    "# Evaluate the model on the test data\n",
    "print(\"Evaluation on Test data \\n\")\n",
    "\n",
    "mse = mean_squared_error(y_test, y_pred)\n",
    "mae = mean_absolute_error(y_test, y_pred)\n",
    "\n",
    "print(f\"\\nModel loss on test set: {mae}\")\n",
    "print(f\"Model mean squared error on test set: {(mse):.2f}\")\n"
   ]
  },
  {
   "cell_type": "code",
   "execution_count": null,
   "id": "2d75be25",
   "metadata": {},
   "outputs": [],
   "source": []
  },
  {
   "cell_type": "code",
   "execution_count": 26,
   "id": "d78661cc",
   "metadata": {},
   "outputs": [
    {
     "data": {
      "text/plain": [
       "<matplotlib.legend.Legend at 0x7e101e05e410>"
      ]
     },
     "execution_count": 26,
     "metadata": {},
     "output_type": "execute_result"
    },
    {
     "data": {
      "image/png": "[encoded data removed]",
      "text/plain": [
       "<Figure size 640x480 with 1 Axes>"
      ]
     },
     "metadata": {},
     "output_type": "display_data"
    }
   ],
   "source": [
    "plt.plot(history.history['loss'])\n",
    "plt.plot(history.history['val_loss'])\n",
    "plt.xlabel('Epochs')\n",
    "plt.ylabel('Loss')\n",
    "plt.legend(['Train', 'Validation'], loc='upper right')"
   ]
  },
  {
   "cell_type": "markdown",
   "id": "6427e4ff",
   "metadata": {},
   "source": [
    "## Conclusion: \n",
    "\n",
    " 50 Epochs are enough so more epochs further can lead to overfitting"
   ]
  },
  {
   "cell_type": "code",
   "execution_count": 27,
   "id": "e803ba1e",
   "metadata": {},
   "outputs": [],
   "source": [
    "y_pred_array = []\n",
    "for i in y_pred:\n",
    "    y_pred_array.append(list(i)[0])"
   ]
  },
  {
   "cell_type": "code",
   "execution_count": 28,
   "id": "8d3a8f4e",
   "metadata": {},
   "outputs": [],
   "source": [
    "output = pd.DataFrame({'y_test':y_test['MEDV'] , 'y_pred' :y_pred_array })"
   ]
  },
  {
   "cell_type": "code",
   "execution_count": 29,
   "id": "8106c568",
   "metadata": {},
   "outputs": [
    {
     "data": {
      "text/html": [
       "<div>\n",
       "<style scoped>\n",
       "    .dataframe tbody tr th:only-of-type {\n",
       "        vertical-align: middle;\n",
       "    }\n",
       "\n",
       "    .dataframe tbody tr th {\n",
       "        vertical-align: top;\n",
       "    }\n",
       "\n",
       "    .dataframe thead th {\n",
       "        text-align: right;\n",
       "    }\n",
       "</style>\n",
       "<table border=\"1\" class=\"dataframe\">\n",
       "  <thead>\n",
       "    <tr style=\"text-align: right;\">\n",
       "      <th></th>\n",
       "      <th>y_test</th>\n",
       "      <th>y_pred</th>\n",
       "    </tr>\n",
       "  </thead>\n",
       "  <tbody>\n",
       "    <tr>\n",
       "      <th>71</th>\n",
       "      <td>21.7</td>\n",
       "      <td>23.055727</td>\n",
       "    </tr>\n",
       "    <tr>\n",
       "      <th>387</th>\n",
       "      <td>7.4</td>\n",
       "      <td>9.148242</td>\n",
       "    </tr>\n",
       "    <tr>\n",
       "      <th>89</th>\n",
       "      <td>28.7</td>\n",
       "      <td>31.392231</td>\n",
       "    </tr>\n",
       "    <tr>\n",
       "      <th>485</th>\n",
       "      <td>21.2</td>\n",
       "      <td>23.010033</td>\n",
       "    </tr>\n",
       "    <tr>\n",
       "      <th>358</th>\n",
       "      <td>22.7</td>\n",
       "      <td>25.512753</td>\n",
       "    </tr>\n",
       "    <tr>\n",
       "      <th>...</th>\n",
       "      <td>...</td>\n",
       "      <td>...</td>\n",
       "    </tr>\n",
       "    <tr>\n",
       "      <th>194</th>\n",
       "      <td>29.1</td>\n",
       "      <td>31.024734</td>\n",
       "    </tr>\n",
       "    <tr>\n",
       "      <th>326</th>\n",
       "      <td>23.0</td>\n",
       "      <td>23.934296</td>\n",
       "    </tr>\n",
       "    <tr>\n",
       "      <th>171</th>\n",
       "      <td>19.1</td>\n",
       "      <td>21.711929</td>\n",
       "    </tr>\n",
       "    <tr>\n",
       "      <th>77</th>\n",
       "      <td>20.8</td>\n",
       "      <td>22.484732</td>\n",
       "    </tr>\n",
       "    <tr>\n",
       "      <th>178</th>\n",
       "      <td>29.9</td>\n",
       "      <td>29.995735</td>\n",
       "    </tr>\n",
       "  </tbody>\n",
       "</table>\n",
       "<p>79 rows × 2 columns</p>\n",
       "</div>"
      ],
      "text/plain": [
       "     y_test     y_pred\n",
       "71     21.7  23.055727\n",
       "387     7.4   9.148242\n",
       "89     28.7  31.392231\n",
       "485    21.2  23.010033\n",
       "358    22.7  25.512753\n",
       "..      ...        ...\n",
       "194    29.1  31.024734\n",
       "326    23.0  23.934296\n",
       "171    19.1  21.711929\n",
       "77     20.8  22.484732\n",
       "178    29.9  29.995735\n",
       "\n",
       "[79 rows x 2 columns]"
      ]
     },
     "execution_count": 29,
     "metadata": {},
     "output_type": "execute_result"
    }
   ],
   "source": [
    "output"
   ]
  },
  {
   "cell_type": "code",
   "execution_count": 30,
   "id": "657ac240",
   "metadata": {},
   "outputs": [
    {
     "data": {
      "text/html": [
       "<div>\n",
       "<style scoped>\n",
       "    .dataframe tbody tr th:only-of-type {\n",
       "        vertical-align: middle;\n",
       "    }\n",
       "\n",
       "    .dataframe tbody tr th {\n",
       "        vertical-align: top;\n",
       "    }\n",
       "\n",
       "    .dataframe thead th {\n",
       "        text-align: right;\n",
       "    }\n",
       "</style>\n",
       "<table border=\"1\" class=\"dataframe\">\n",
       "  <thead>\n",
       "    <tr style=\"text-align: right;\">\n",
       "      <th></th>\n",
       "      <th>y_test</th>\n",
       "      <th>y_pred</th>\n",
       "    </tr>\n",
       "  </thead>\n",
       "  <tbody>\n",
       "    <tr>\n",
       "      <th>71</th>\n",
       "      <td>21.7</td>\n",
       "      <td>23.055727</td>\n",
       "    </tr>\n",
       "    <tr>\n",
       "      <th>387</th>\n",
       "      <td>7.4</td>\n",
       "      <td>9.148242</td>\n",
       "    </tr>\n",
       "    <tr>\n",
       "      <th>89</th>\n",
       "      <td>28.7</td>\n",
       "      <td>31.392231</td>\n",
       "    </tr>\n",
       "    <tr>\n",
       "      <th>485</th>\n",
       "      <td>21.2</td>\n",
       "      <td>23.010033</td>\n",
       "    </tr>\n",
       "    <tr>\n",
       "      <th>358</th>\n",
       "      <td>22.7</td>\n",
       "      <td>25.512753</td>\n",
       "    </tr>\n",
       "  </tbody>\n",
       "</table>\n",
       "</div>"
      ],
      "text/plain": [
       "     y_test     y_pred\n",
       "71     21.7  23.055727\n",
       "387     7.4   9.148242\n",
       "89     28.7  31.392231\n",
       "485    21.2  23.010033\n",
       "358    22.7  25.512753"
      ]
     },
     "execution_count": 30,
     "metadata": {},
     "output_type": "execute_result"
    }
   ],
   "source": [
    "output.head()"
   ]
  },
  {
   "cell_type": "code",
   "execution_count": 31,
   "id": "5a44da88",
   "metadata": {},
   "outputs": [
    {
     "data": {
      "image/png": "[encoded data removed]",
      "text/plain": [
       "<Figure size 800x400 with 1 Axes>"
      ]
     },
     "metadata": {},
     "output_type": "display_data"
    }
   ],
   "source": [
    "plt.figure(figsize=(8 , 4))\n",
    "plt.plot(output['y_test'].head(), 'ro' , label = 'y_test')\n",
    "plt.plot(output['y_pred'].head(),'bo', label = 'y_pred')\n",
    "plt.legend()\n",
    "plt.show()"
   ]
  },
  {
   "cell_type": "code",
   "execution_count": null,
   "id": "5416c6e8",
   "metadata": {},
   "outputs": [],
   "source": []
  },
  {
   "cell_type": "code",
   "execution_count": null,
   "id": "910884ad",
   "metadata": {},
   "outputs": [],
   "source": []
  }
 ],
 "metadata": {
  "kernelspec": {
   "display_name": "Python 3 (ipykernel)",
   "language": "python",
   "name": "python3"
  },
  "language_info": {
   "codemirror_mode": {
    "name": "ipython",
    "version": 3
   },
   "file_extension": ".py",
   "mimetype": "text/x-python",
   "name": "python",
   "nbconvert_exporter": "python",
   "pygments_lexer": "ipython3",
   "version": "3.10.12"
  }
 },
 "nbformat": 4,
 "nbformat_minor": 5
}
